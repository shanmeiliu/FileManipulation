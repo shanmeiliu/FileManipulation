{
 "cells": [
  {
   "cell_type": "code",
   "execution_count": 3,
   "metadata": {},
   "outputs": [
    {
     "name": "stdout",
     "output_type": "stream",
     "text": [
      "{123: ['weather'], 234: ['corpus']}\n",
      "(123, ['1', 'how is the weather today.'])\n",
      "(123, ['2', \"what's the weather like today.\"])\n",
      "(234, ['3', \"what's your name?\"])\n",
      "{123: ['weather', ['1', 'how is the weather today.'], ['2', \"what's the weather like today.\"]], 234: ['corpus', ['3', \"what's your name?\"]]}\n",
      "(123, ['1', 'it is hot.'])\n",
      "(123, ['2', 'it is raining.'])\n",
      "(234, ['3', 'my name is doudou.'])\n",
      "{123: ['weather', ['1', 'how is the weather today.', 'it is hot.'], ['2', \"what's the weather like today.\", 'it is raining.']], 234: ['corpus', ['3', \"what's your name?\", 'my name is doudou.']]}\n"
     ]
    }
   ],
   "source": [
    "def get_pair(line):\n",
    "    key, sep, value1= line.strip().partition(\"##\")\n",
    "    value=[]\n",
    "    while \"##\"in value1:\n",
    "        value2, sep, value1=value1.strip().partition(\"##\")\n",
    "        value.append(value2)\n",
    "    value.append(value1)\n",
    "    return int(key), value\n",
    "with open(\"group.txt\") as g:\n",
    "    group = dict(get_pair(line) for line in g)\n",
    "    print(group)\n",
    "with open(\"question.txt\") as q:\n",
    "    for line in q:\n",
    "        print(get_pair(line) )\n",
    "        if get_pair(line)[0] in group.keys():\n",
    "            group[get_pair(line)[0]].append(get_pair(line)[1])\n",
    "    print(group)\n",
    "with open(\"answers.txt\") as a:\n",
    "    for line in a:\n",
    "        print(get_pair(line))\n",
    "        if get_pair(line)[0] in group.keys():\n",
    "            n=len(group[get_pair(line)[0]])\n",
    "            for i in range(1,n):\n",
    "                if group[get_pair(line)[0]][i][0] == get_pair(line)[1][0]:\n",
    "                    group[get_pair(line)[0]][i].append(get_pair(line)[1][1])\n",
    "    print(group)\n",
    "                \n",
    "                        "
   ]
  },
  {
   "cell_type": "code",
   "execution_count": null,
   "metadata": {
    "collapsed": true
   },
   "outputs": [],
   "source": []
  }
 ],
 "metadata": {
  "kernelspec": {
   "display_name": "Python 3",
   "language": "python",
   "name": "python3"
  },
  "language_info": {
   "codemirror_mode": {
    "name": "ipython",
    "version": 3
   },
   "file_extension": ".py",
   "mimetype": "text/x-python",
   "name": "python",
   "nbconvert_exporter": "python",
   "pygments_lexer": "ipython3",
   "version": "3.6.3"
  }
 },
 "nbformat": 4,
 "nbformat_minor": 2
}
